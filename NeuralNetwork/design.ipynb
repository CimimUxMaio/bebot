{
 "cells": [
  {
   "cell_type": "code",
   "execution_count": 1,
   "metadata": {},
   "outputs": [],
   "source": [
    "import tensorflow as tf\n",
    "import sklearn\n",
    "import matplotlib.pyplot as plt\n",
    "import numpy as np\n",
    "import pandas as pd\n",
    "from unidecode import unidecode\n",
    "import re"
   ]
  },
  {
   "cell_type": "markdown",
   "metadata": {},
   "source": [
    "## Adquisicion de los datos iniciales"
   ]
  },
  {
   "cell_type": "code",
   "execution_count": 2,
   "metadata": {},
   "outputs": [
    {
     "name": "stdout",
     "output_type": "stream",
     "text": [
      "Cantidad de ejemplos: 113\n"
     ]
    },
    {
     "data": {
      "text/html": [
       "<div>\n",
       "<style scoped>\n",
       "    .dataframe tbody tr th:only-of-type {\n",
       "        vertical-align: middle;\n",
       "    }\n",
       "\n",
       "    .dataframe tbody tr th {\n",
       "        vertical-align: top;\n",
       "    }\n",
       "\n",
       "    .dataframe thead th {\n",
       "        text-align: right;\n",
       "    }\n",
       "</style>\n",
       "<table border=\"1\" class=\"dataframe\">\n",
       "  <thead>\n",
       "    <tr style=\"text-align: right;\">\n",
       "      <th></th>\n",
       "      <th>sentence</th>\n",
       "      <th>command</th>\n",
       "    </tr>\n",
       "  </thead>\n",
       "  <tbody>\n",
       "    <tr>\n",
       "      <th>0</th>\n",
       "      <td>¿Cuánto ping tengo?</td>\n",
       "      <td>ping</td>\n",
       "    </tr>\n",
       "    <tr>\n",
       "      <th>1</th>\n",
       "      <td>¿Tengo ping?</td>\n",
       "      <td>ping</td>\n",
       "    </tr>\n",
       "    <tr>\n",
       "      <th>2</th>\n",
       "      <td>ping</td>\n",
       "      <td>ping</td>\n",
       "    </tr>\n",
       "    <tr>\n",
       "      <th>3</th>\n",
       "      <td>¿Hay ping?</td>\n",
       "      <td>ping</td>\n",
       "    </tr>\n",
       "    <tr>\n",
       "      <th>4</th>\n",
       "      <td>contame el ping</td>\n",
       "      <td>ping</td>\n",
       "    </tr>\n",
       "  </tbody>\n",
       "</table>\n",
       "</div>"
      ],
      "text/plain": [
       "              sentence command\n",
       "0  ¿Cuánto ping tengo?    ping\n",
       "1         ¿Tengo ping?    ping\n",
       "2                 ping    ping\n",
       "3           ¿Hay ping?    ping\n",
       "4      contame el ping    ping"
      ]
     },
     "execution_count": 2,
     "metadata": {},
     "output_type": "execute_result"
    }
   ],
   "source": [
    "ping_data = pd.read_excel(\"datos.xlsx\", sheet_name=\"ping\")\n",
    "time_data = pd.read_excel(\"datos.xlsx\", sheet_name=\"time\")\n",
    "play_data = pd.read_excel(\"datos.xlsx\", sheet_name=\"play\")\n",
    "\n",
    "raw_data = pd.concat([ping_data, time_data, play_data])\n",
    "\n",
    "print(f\"Cantidad de ejemplos: {len(raw_data)}\")\n",
    "raw_data.head()"
   ]
  },
  {
   "cell_type": "markdown",
   "metadata": {},
   "source": [
    "## Limpieza de datos"
   ]
  },
  {
   "cell_type": "code",
   "execution_count": 3,
   "metadata": {},
   "outputs": [
    {
     "data": {
      "text/html": [
       "<div>\n",
       "<style scoped>\n",
       "    .dataframe tbody tr th:only-of-type {\n",
       "        vertical-align: middle;\n",
       "    }\n",
       "\n",
       "    .dataframe tbody tr th {\n",
       "        vertical-align: top;\n",
       "    }\n",
       "\n",
       "    .dataframe thead th {\n",
       "        text-align: right;\n",
       "    }\n",
       "</style>\n",
       "<table border=\"1\" class=\"dataframe\">\n",
       "  <thead>\n",
       "    <tr style=\"text-align: right;\">\n",
       "      <th></th>\n",
       "      <th>sentence</th>\n",
       "      <th>command</th>\n",
       "    </tr>\n",
       "  </thead>\n",
       "  <tbody>\n",
       "    <tr>\n",
       "      <th>0</th>\n",
       "      <td>cuanto ping tengo</td>\n",
       "      <td>ping</td>\n",
       "    </tr>\n",
       "    <tr>\n",
       "      <th>1</th>\n",
       "      <td>tengo ping</td>\n",
       "      <td>ping</td>\n",
       "    </tr>\n",
       "    <tr>\n",
       "      <th>2</th>\n",
       "      <td>ping</td>\n",
       "      <td>ping</td>\n",
       "    </tr>\n",
       "    <tr>\n",
       "      <th>3</th>\n",
       "      <td>hay ping</td>\n",
       "      <td>ping</td>\n",
       "    </tr>\n",
       "    <tr>\n",
       "      <th>4</th>\n",
       "      <td>contame el ping</td>\n",
       "      <td>ping</td>\n",
       "    </tr>\n",
       "  </tbody>\n",
       "</table>\n",
       "</div>"
      ],
      "text/plain": [
       "            sentence command\n",
       "0  cuanto ping tengo    ping\n",
       "1         tengo ping    ping\n",
       "2               ping    ping\n",
       "3           hay ping    ping\n",
       "4    contame el ping    ping"
      ]
     },
     "execution_count": 3,
     "metadata": {},
     "output_type": "execute_result"
    }
   ],
   "source": [
    "raw_data.dropna()\n",
    "\n",
    "data = pd.DataFrame()\n",
    "data[\"sentence\"] = raw_data[\"sentence\"].map(lambda s: unidecode(re.sub(r'[^\\w\\s]', '', s.lower())))\n",
    "data[\"command\"] = raw_data[\"command\"]\n",
    "\n",
    "data.head()"
   ]
  },
  {
   "cell_type": "code",
   "execution_count": 4,
   "metadata": {},
   "outputs": [],
   "source": [
    "command_index = { cmd: i for i, cmd in enumerate(data[\"command\"].unique()) }\n",
    "inverse_command_index = { i: cmd for cmd, i in command_index.items() }\n",
    "\n",
    "targets = data[\"command\"].map(lambda cmd: command_index[cmd]).values"
   ]
  },
  {
   "cell_type": "markdown",
   "metadata": {},
   "source": [
    "## Distribucion de los datos"
   ]
  },
  {
   "cell_type": "code",
   "execution_count": 5,
   "metadata": {},
   "outputs": [
    {
     "data": {
      "image/png": "[encoded data removed]",
      "text/plain": [
       "<Figure size 432x288 with 1 Axes>"
      ]
     },
     "metadata": {},
     "output_type": "display_data"
    }
   ],
   "source": [
    "command_distribution = { cmd: 0 for cmd in command_index.keys() }\n",
    "\n",
    "for cmd_index in targets:\n",
    "    command_distribution[inverse_command_index[cmd_index]] += 1\n",
    "    \n",
    "labels = command_distribution.keys()\n",
    "sizes = command_distribution.values()\n",
    "\n",
    "plt.pie(sizes, labels=labels, autopct='%1.1f%%')\n",
    "plt.axis('equal')\n",
    "\n",
    "plt.show()"
   ]
  },
  {
   "cell_type": "markdown",
   "metadata": {},
   "source": [
    "## Seleccion de conjunto de entrenamiento y prueba"
   ]
  },
  {
   "cell_type": "code",
   "execution_count": 6,
   "metadata": {},
   "outputs": [
    {
     "name": "stdout",
     "output_type": "stream",
     "text": [
      "Datos de entrenamiento: 90\n",
      "Datos de prueba: 23\n"
     ]
    }
   ],
   "source": [
    "from sklearn.model_selection import train_test_split\n",
    "\n",
    "train_data, test_data, train_targets, test_targets = train_test_split(data[\"sentence\"].values, targets, test_size=0.2)\n",
    "\n",
    "print(f\"Datos de entrenamiento: {len(train_data)}\")\n",
    "print(f\"Datos de prueba: {len(test_data)}\")"
   ]
  },
  {
   "cell_type": "markdown",
   "metadata": {},
   "source": [
    "## Preparación"
   ]
  },
  {
   "cell_type": "code",
   "execution_count": 7,
   "metadata": {},
   "outputs": [],
   "source": [
    "from tensorflow.keras.preprocessing.text import Tokenizer\n",
    "from tensorflow.keras.preprocessing.sequence import pad_sequences\n",
    "\n",
    "tokenizer = Tokenizer()\n",
    "tokenizer.fit_on_texts(data[\"sentence\"].values)\n",
    "\n",
    "word_index = tokenizer.word_index\n",
    "word_index[\"<PAD>\"] = 0\n",
    "\n",
    "def pad_data(data_array):\n",
    "    MAX_LEN = 10\n",
    "    padded_array = pad_sequences(data_array, value=word_index[\"<PAD>\"], maxlen=MAX_LEN, padding=\"post\")\n",
    "    return tf.convert_to_tensor(padded_array)\n",
    "\n",
    "def encode_data(data_array):\n",
    "    return pad_data(tokenizer.texts_to_sequences(data_array))\n",
    "\n",
    "encoded_train_data = encode_data(train_data)\n",
    "encoded_test_data = encode_data(test_data)"
   ]
  },
  {
   "cell_type": "markdown",
   "metadata": {},
   "source": [
    "## Modelado"
   ]
  },
  {
   "cell_type": "code",
   "execution_count": 8,
   "metadata": {},
   "outputs": [
    {
     "name": "stdout",
     "output_type": "stream",
     "text": [
      "Model: \"sequential\"\n",
      "_________________________________________________________________\n",
      "Layer (type)                 Output Shape              Param #   \n",
      "=================================================================\n",
      "embedding (Embedding)        (None, None, 128)         8320      \n",
      "_________________________________________________________________\n",
      "global_average_pooling1d (Gl (None, 128)               0         \n",
      "_________________________________________________________________\n",
      "dense (Dense)                (None, 10)                1290      \n",
      "=================================================================\n",
      "Total params: 9,610\n",
      "Trainable params: 9,610\n",
      "Non-trainable params: 0\n",
      "_________________________________________________________________\n"
     ]
    }
   ],
   "source": [
    "from tensorflow import keras\n",
    "\n",
    "vocabulary_size = len(word_index)\n",
    "\n",
    "model = keras.Sequential()\n",
    "\n",
    "#model.add(keras.layers.experimental.preprocessing.TextVectorization(max_tokens=5000, output_mode='int', output_sequence_length=10, input_shape=(1,)))\n",
    "model.add(keras.layers.Embedding(vocabulary_size, 128))\n",
    "model.add(keras.layers.GlobalAveragePooling1D())\n",
    "model.add(keras.layers.Dense(10, activation=\"softmax\"))\n",
    "\n",
    "model.summary()"
   ]
  },
  {
   "cell_type": "code",
   "execution_count": 9,
   "metadata": {},
   "outputs": [
    {
     "name": "stdout",
     "output_type": "stream",
     "text": [
      "Training started...\n",
      "DONE!\n"
     ]
    }
   ],
   "source": [
    "model.compile(optimizer=\"adam\", loss=\"sparse_categorical_crossentropy\", metrics=[\"acc\"])\n",
    "\n",
    "\n",
    "\n",
    "print(\"Training started...\")\n",
    "EPOCHS = 150\n",
    "history = model.fit(\n",
    "    encoded_train_data, \n",
    "    train_targets,\n",
    "    epochs=EPOCHS,\n",
    "    validation_split=0.1, \n",
    "    verbose=0\n",
    ")\n",
    "\n",
    "print(\"DONE!\")"
   ]
  },
  {
   "cell_type": "markdown",
   "metadata": {},
   "source": [
    "## Evaluacion"
   ]
  },
  {
   "cell_type": "markdown",
   "metadata": {},
   "source": [
    "Entrenamiento:"
   ]
  },
  {
   "cell_type": "code",
   "execution_count": 10,
   "metadata": {},
   "outputs": [
    {
     "data": {
      "image/png": "[encoded data removed]",
      "text/plain": [
       "<Figure size 432x288 with 1 Axes>"
      ]
     },
     "metadata": {
      "needs_background": "light"
     },
     "output_type": "display_data"
    }
   ],
   "source": [
    "history_dict = history.history\n",
    "\n",
    "xticks = np.arange(1, EPOCHS+1)\n",
    "plt.xticks(xticks)\n",
    "plt.plot(xticks, history_dict['acc'], \"b\", label=\"training accuracy\")\n",
    "plt.plot(xticks, history_dict['val_acc'], \"g\", label=\"validation accuracy\")\n",
    "plt.xticks(np.linspace(1, EPOCHS, 10))\n",
    "plt.legend()\n",
    "plt.show()"
   ]
  },
  {
   "cell_type": "code",
   "execution_count": 12,
   "metadata": {},
   "outputs": [
    {
     "name": "stdout",
     "output_type": "stream",
     "text": [
      "1/1 [==============================] - 0s 17ms/step - loss: 0.1995 - acc: 1.0000\n",
      "Precision: 1.0\n"
     ]
    }
   ],
   "source": [
    "results = model.evaluate(encoded_test_data, test_targets)\n",
    "print(f\"Precision: {results[1]}\")"
   ]
  },
  {
   "cell_type": "code",
   "execution_count": 14,
   "metadata": {},
   "outputs": [],
   "source": [
    "predictions = model.predict(encoded_test_data)"
   ]
  },
  {
   "cell_type": "markdown",
   "metadata": {},
   "source": [
    "Cantidad de errores:"
   ]
  },
  {
   "cell_type": "code",
   "execution_count": 15,
   "metadata": {},
   "outputs": [],
   "source": [
    "def predicted_classification(test_index):\n",
    "    best_index = np.argmax(predictions[test_index])  # Indice del maximo valo en el vector\n",
    "    return inverse_command_index[best_index]\n",
    "\n",
    "def is_error(test_index):\n",
    "    real_classification = inverse_command_index[test_targets[test_index]]\n",
    "    return predicted_classification(test_index) != real_classification\n",
    "\n",
    "label_errors = { label: { other_label: 0 for other_label in command_index.keys() } for label in command_index.keys() }\n",
    "error_indices = []\n",
    "for test_index, prediction in enumerate(predictions):\n",
    "    classification = predicted_classification(test_index)\n",
    "    real_classification = inverse_command_index[test_targets[test_index]]\n",
    "    if classification != real_classification:\n",
    "        label_errors[real_classification][classification] += 1\n",
    "        error_indices.append(test_index)"
   ]
  },
  {
   "cell_type": "code",
   "execution_count": 16,
   "metadata": {},
   "outputs": [
    {
     "data": {
      "image/png": "[encoded data removed]",
      "text/plain": [
       "<Figure size 432x288 with 1 Axes>"
      ]
     },
     "metadata": {
      "needs_background": "light"
     },
     "output_type": "display_data"
    }
   ],
   "source": [
    "width = 1\n",
    "xticks = np.linspace(0, 4, len(command_index))\n",
    "for i, errors in enumerate(label_errors.values()):\n",
    "    class_error_count = sum(errors.values())\n",
    "    plt.bar(xticks[i], class_error_count, width)\n",
    "\n",
    "plt.title(\"Errores por categoria\")\n",
    "plt.xticks(xticks, command_index.keys())\n",
    "plt.show()"
   ]
  },
  {
   "cell_type": "code",
   "execution_count": 17,
   "metadata": {},
   "outputs": [
    {
     "data": {
      "image/png": "[encoded data removed]",
      "text/plain": [
       "<Figure size 360x360 with 1 Axes>"
      ]
     },
     "metadata": {
      "needs_background": "light"
     },
     "output_type": "display_data"
    }
   ],
   "source": [
    "plt.figure(figsize=(5, 5))\n",
    "\n",
    "error_matrix = np.transpose(np.array([[*errors.values()] for errors in label_errors.values()]))\n",
    "plot_size = len(label_errors)\n",
    "\n",
    "for i in range(plot_size):\n",
    "    for j in range(plot_size):\n",
    "        plt.text(j, i, error_matrix[i, j], ha=\"center\", va=\"center\")\n",
    "\n",
    "ticks = np.arange(plot_size)\n",
    "plt.xticks(ticks, command_index.keys())\n",
    "plt.yticks(ticks, command_index.keys())\n",
    "plt.title(\"Comando x confusiones con otro comando\")\n",
    "plt.imshow(error_matrix, cmap=plt.get_cmap(\"Reds\"))\n",
    "plt.show()"
   ]
  },
  {
   "cell_type": "markdown",
   "metadata": {},
   "source": [
    "### Ejemplos de errores:"
   ]
  },
  {
   "cell_type": "code",
   "execution_count": 18,
   "metadata": {},
   "outputs": [
    {
     "name": "stdout",
     "output_type": "stream",
     "text": [
      "No hubo errores\n"
     ]
    }
   ],
   "source": [
    "ERROR_AMOUNT = len(error_indices)\n",
    "DISPLAY_AMOUNT = min(20, ERROR_AMOUNT)\n",
    "\n",
    "if DISPLAY_AMOUNT > 0:\n",
    "    np.random.seed(23)\n",
    "    error_samples = np.random.randint(0, ERROR_AMOUNT, size=DISPLAY_AMOUNT)\n",
    "    \n",
    "    fig, axs = plt.subplots(DISPLAY_AMOUNT//3 + 2, 3, figsize=(15, 4 * (DISPLAY_AMOUNT // 3 + 2)))\n",
    "    for i in range(DISPLAY_AMOUNT):\n",
    "        ROW = i // 3\n",
    "        COL = i % 3\n",
    "        \n",
    "        TEXT_INDEX = error_indices[error_samples[i]]\n",
    "        command_prediction = predictions[TEXT_INDEX]\n",
    "        classification = predicted_classification(TEXT_INDEX)\n",
    "\n",
    "        frase = test_data[TEXT_INDEX]\n",
    "        axs[ROW, COL].text(1, 0.5, f\"\\\"{frase}\\\"\", fontsize=12, fontstyle=\"italic\")\n",
    "\n",
    "        width = 1\n",
    "        xticks = np.linspace(0, 5, len(command_index), command_index.keys())\n",
    "        for c in range(len(command_index)):\n",
    "            axs[ROW, COL].bar(xticks[c], command_prediction[c], width, color='r')\n",
    "\n",
    "        axs[ROW, COL].set_xticks(xticks)\n",
    "        axs[ROW, COL].set_xticklabels(command_index.keys())\n",
    "        axs[ROW, COL].set_yticks(np.arange(0, 1.1, step=0.1))\n",
    "\n",
    "        certainty = round(np.max(command_prediction) * 100, 2)\n",
    "        axs[ROW, COL].text(3, 0.9, f\"{certainty}% {classification}\", fontsize=12, fontweight=\"bold\")\n",
    "\n",
    "    plt.tight_layout()\n",
    "    plt.show()\n",
    "else:\n",
    "    print(\"No hubo errores\")"
   ]
  },
  {
   "cell_type": "code",
   "execution_count": null,
   "metadata": {},
   "outputs": [],
   "source": []
  }
 ],
 "metadata": {
  "kernelspec": {
   "display_name": "Python 3",
   "language": "python",
   "name": "python3"
  },
  "language_info": {
   "codemirror_mode": {
    "name": "ipython",
    "version": 3
   },
   "file_extension": ".py",
   "mimetype": "text/x-python",
   "name": "python",
   "nbconvert_exporter": "python",
   "pygments_lexer": "ipython3",
   "version": "3.8.5"
  }
 },
 "nbformat": 4,
 "nbformat_minor": 4
}
